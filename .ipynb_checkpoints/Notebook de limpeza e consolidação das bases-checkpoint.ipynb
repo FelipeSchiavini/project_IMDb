{
 "cells": [
  {
   "cell_type": "code",
   "execution_count": 1,
   "metadata": {},
   "outputs": [
    {
     "name": "stdout",
     "output_type": "stream",
     "text": [
      "<class 'pandas.core.frame.DataFrame'>\n",
      "RangeIndex: 81273 entries, 0 to 81272\n",
      "Data columns (total 22 columns):\n",
      "imdb_title_id            81273 non-null object\n",
      "title                    81273 non-null object\n",
      "original_title           81273 non-null object\n",
      "year                     81273 non-null int64\n",
      "date_published           81273 non-null datetime64[ns]\n",
      "genre                    81273 non-null object\n",
      "duration                 81273 non-null int64\n",
      "country                  81234 non-null object\n",
      "language                 80518 non-null object\n",
      "director                 81200 non-null object\n",
      "writer                   79780 non-null object\n",
      "production_company       76948 non-null object\n",
      "actors                   81207 non-null object\n",
      "description              78843 non-null object\n",
      "avg_vote                 81273 non-null float64\n",
      "votes                    81273 non-null int64\n",
      "budget                   22804 non-null object\n",
      "usa_gross_income         15094 non-null object\n",
      "worlwide_gross_income    29892 non-null object\n",
      "metascore                12722 non-null float64\n",
      "reviews_from_users       74196 non-null float64\n",
      "reviews_from_critics     70286 non-null float64\n",
      "dtypes: datetime64[ns](1), float64(4), int64(3), object(14)\n",
      "memory usage: 9.3+ MB\n",
      "O número de linhas inicial é: 81273\n",
      "O número de linhas retiradas é: 14770\n",
      "O número de linhas restante é: 66503\n"
     ]
    },
    {
     "name": "stderr",
     "output_type": "stream",
     "text": [
      "C:\\Users\\tamara\\Anaconda3\\lib\\site-packages\\pandas\\core\\frame.py:4102: SettingWithCopyWarning: \n",
      "A value is trying to be set on a copy of a slice from a DataFrame\n",
      "\n",
      "See the caveats in the documentation: http://pandas.pydata.org/pandas-docs/stable/user_guide/indexing.html#returning-a-view-versus-a-copy\n",
      "  errors=errors,\n",
      "C:\\Users\\tamara\\Anaconda3\\lib\\site-packages\\pandas\\core\\frame.py:4223: SettingWithCopyWarning: \n",
      "A value is trying to be set on a copy of a slice from a DataFrame\n",
      "\n",
      "See the caveats in the documentation: http://pandas.pydata.org/pandas-docs/stable/user_guide/indexing.html#returning-a-view-versus-a-copy\n",
      "  return super().rename(**kwargs)\n"
     ]
    },
    {
     "data": {
      "text/plain": [
       "(66503, 44)"
      ]
     },
     "execution_count": 1,
     "metadata": {},
     "output_type": "execute_result"
    }
   ],
   "source": [
    "import pandas as pd\n",
    "\n",
    "# ## IMDB Movies\n",
    "database = pd.read_csv(\"IMDb_movies.csv\", sep = \",\")\n",
    "database[\"date_published\"] = pd.to_datetime(database[\"date_published\"])\n",
    "database.head(15)\n",
    "\n",
    "\n",
    "# ### Informações das colunas \n",
    "database.info()\n",
    "list(database.columns)\n",
    "\n",
    "# ### Limpando a base de dados\n",
    "# - reviews_from_users \n",
    "# - reviews_from_critics\n",
    "# Queremos excluir da base de dados a parte que não possui nota dos críticos nem dos expectadores e algumas colunas que não farão parte do escopo do projeto.\n",
    "df1 = database[(database[\"reviews_from_critics\"].notnull()) & (database[\"reviews_from_users\"].notnull())]\n",
    "df1.reset_index(drop = True, inplace = True)  ## resetando o indice das linhas\n",
    "df1.drop(columns = [\"usa_gross_income\", \"duration\", \"writer\", \"metascore\", \"reviews_from_critics\", \"reviews_from_users\", \"votes\", \"avg_vote\"], axis = \"columns\", inplace = True) ## excluindo colunas\n",
    "df1\n",
    "database2 = database[(database[\"reviews_from_critics\"].isnull()) | (database[\"reviews_from_users\"].isnull())]\n",
    "A = database.shape[0]\n",
    "B = database2.shape[0]\n",
    "print(\"O número de linhas inicial é:\",  database.shape[0])\n",
    "print(\"O número de linhas retiradas é:\",  database2.shape[0])\n",
    "print(\"O número de linhas restante é:\",  A - B)\n",
    "df1.rename(columns={'date_published': 'release_date'}, inplace=True)\n",
    "df1.shape\n",
    "\n",
    "\n",
    "# ## IMDB Ratings\n",
    "df2 = pd.read_csv(\"IMDb_ratings.csv\", sep = \",\")\n",
    "df2.drop([\"total_votes\", \"votes_10\", \"votes_9\", \"votes_8\",\n",
    "                \"votes_7\", \"votes_6\",\"votes_5\", \"votes_4\", \"votes_3\",\n",
    "                \"votes_2\", \"votes_1\", \"us_voters_votes\", \"us_voters_rating\", \"median_vote\",\n",
    "                \"non_us_voters_rating\", \"non_us_voters_votes\", \"top1000_voters_rating\", \"top1000_voters_votes\", \"weighted_average_vote\"], axis = \"columns\", inplace = True)\n",
    "df2['votes'] = df2['allgenders_0age_votes'] + df2['allgenders_18age_votes'] + df2['allgenders_30age_votes'] + df2['allgenders_45age_votes']\n",
    "df2.rename(columns={'mean_vote':'avg_vote', 'date_published': 'release_date'}, inplace=True)\n",
    "# total_votes já está no IMDb Movies\n",
    "\n",
    "# ### Juntando as duas base de dados com merge\n",
    "left = df1\n",
    "right = df2\n",
    "df = left.merge(right, on='imdb_title_id')\n",
    "df.head(15)\n",
    "df.shape"
   ]
  },
  {
   "cell_type": "code",
   "execution_count": 17,
   "metadata": {},
   "outputs": [
    {
     "name": "stdout",
     "output_type": "stream",
     "text": [
      "Tamanho dos dados: (5244, 45)\n"
     ]
    }
   ],
   "source": [
    "# ### Tirando as linhas com NaN \n",
    "df.dropna(inplace=True)\n",
    "\n",
    "### Acrescentando os dados da Netflix\n",
    "netflix_only = pd.read_csv('netflix_titles.csv')\n",
    "netflix_only['on_netflix'] = True\n",
    "netflix_only = netflix_only[netflix_only['type'] == 'Movie'][['title', 'on_netflix']]\n",
    "netflix = df.merge(netflix_only, on='title', how='left')\n",
    "netflix['on_netflix'].fillna(False, inplace=True)\n",
    "\n",
    "print(\"Tamanho dos dados:\", netflix.shape)\n",
    "\n",
    "# Exportando pro Excel\n",
    "\n",
    "netflix.to_csv(\"base_consolidada.csv\", sep = \";\", index = False) ## não salva o indice"
   ]
  },
  {
   "cell_type": "code",
   "execution_count": null,
   "metadata": {},
   "outputs": [],
   "source": []
  }
 ],
 "metadata": {
  "kernelspec": {
   "display_name": "Python 3",
   "language": "python",
   "name": "python3"
  },
  "language_info": {
   "codemirror_mode": {
    "name": "ipython",
    "version": 3
   },
   "file_extension": ".py",
   "mimetype": "text/x-python",
   "name": "python",
   "nbconvert_exporter": "python",
   "pygments_lexer": "ipython3",
   "version": "3.7.1"
  }
 },
 "nbformat": 4,
 "nbformat_minor": 4
}
