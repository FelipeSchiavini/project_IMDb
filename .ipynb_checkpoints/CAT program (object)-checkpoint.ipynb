{
 "cells": [
  {
   "cell_type": "code",
   "execution_count": 1,
   "metadata": {},
   "outputs": [],
   "source": [
    "import pandas as pd\n",
    "import seaborn as sns"
   ]
  },
  {
   "cell_type": "code",
   "execution_count": 8,
   "metadata": {},
   "outputs": [],
   "source": [
    "class CAT():\n",
    "    def __init__(self):\n",
    "        self.__industry = pd.read_csv('base_consolidada.csv', sep=';', header=0) # todos os filmes da indústria\n",
    "        self.__netflix = self.__industry[self.__industry['on_netflix'] == True] # todos os filmes do catálogo netflix\n",
    "        self.__not_netflix = self.__industry[self.__industry['on_netflix'] == False] # todos os filmes fora do catálogo netflix\n",
    "    \n",
    "    def netflix_catalog(self):\n",
    "        return self.__netflix.drop(columns=['on_netflix']) # retorna o catálogo netflix\n",
    "    \n",
    "    def industry_catalog(self): # retorna o catálogo da indústria como um todo\n",
    "        return self.__industry\n",
    "    \n",
    "    def out_of_catalog(self): # retorna só os filmes fora do catálogo netflix\n",
    "        return self.__not_netflix.drop(columns=['on_netflix'])\n",
    "    \n",
    "    \n",
    "    # Aí aqui programamos métodos que entreguem todos os stories que queremos!!!\n",
    "    "
   ]
  },
  {
   "cell_type": "code",
   "execution_count": 9,
   "metadata": {},
   "outputs": [],
   "source": [
    "program = CAT()"
   ]
  },
  {
   "cell_type": "code",
   "execution_count": null,
   "metadata": {},
   "outputs": [],
   "source": []
  }
 ],
 "metadata": {
  "kernelspec": {
   "display_name": "Python 3",
   "language": "python",
   "name": "python3"
  },
  "language_info": {
   "codemirror_mode": {
    "name": "ipython",
    "version": 3
   },
   "file_extension": ".py",
   "mimetype": "text/x-python",
   "name": "python",
   "nbconvert_exporter": "python",
   "pygments_lexer": "ipython3",
   "version": "3.7.6"
  }
 },
 "nbformat": 4,
 "nbformat_minor": 4
}
